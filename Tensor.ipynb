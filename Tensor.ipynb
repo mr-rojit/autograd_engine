{
  "nbformat": 4,
  "nbformat_minor": 0,
  "metadata": {
    "colab": {
      "provenance": [],
      "authorship_tag": "ABX9TyPXA/e2maXvGb4QCJbgSvkn"
    },
    "kernelspec": {
      "name": "python3",
      "display_name": "Python 3"
    },
    "language_info": {
      "name": "python"
    }
  },
  "cells": [
    {
      "cell_type": "code",
      "source": [
        "import math"
      ],
      "metadata": {
        "id": "HTiveXPjzp48"
      },
      "execution_count": 1,
      "outputs": []
    },
    {
      "cell_type": "code",
      "execution_count": 2,
      "metadata": {
        "id": "Sku8DJcQlm8V"
      },
      "outputs": [],
      "source": [
        "class Scaler:\n",
        "\n",
        "  def __init__(self, data, children=(), op=None):\n",
        "    self.data = data\n",
        "    self._prev = set(children)\n",
        "    self._op = op\n",
        "    self.grad = 0\n",
        "\n",
        "\n",
        "  def __add__(self, other):\n",
        "    out = Scaler(self.data + other.data, children=(self, other), op='+')\n",
        "    return out\n",
        "\n",
        "  def __mul__(self, other):\n",
        "    out = Scaler(self.data * other.data, children=(self, other), op='x')\n",
        "    return out\n",
        "\n",
        "  def tanh(self):\n",
        "    x = self.data\n",
        "    th = (math.exp(2*x) -1)/(math.exp(2*x) + 1)\n",
        "    out = Scaler(th, (self,), 'tanh')\n",
        "    return out\n",
        "\n",
        "  def __str__(self):\n",
        "    return f'Scaler {self.data}'\n",
        "\n",
        "  def __repr__(self):\n",
        "    return f'Scaler {self.data}'\n",
        "\n",
        ""
      ]
    },
    {
      "cell_type": "code",
      "source": [
        "a = Scaler(2)\n",
        "b = Scaler(5)\n",
        "c = Scaler(10)\n",
        "\n",
        "d = a + b + c"
      ],
      "metadata": {
        "id": "CH1Sor7KmINJ"
      },
      "execution_count": 3,
      "outputs": []
    },
    {
      "cell_type": "code",
      "source": [
        "e = a.tanh()\n",
        "e._op"
      ],
      "metadata": {
        "colab": {
          "base_uri": "https://localhost:8080/",
          "height": 36
        },
        "id": "4kiOTlN0Izci",
        "outputId": "3e1b7cc8-3836-4fa2-9cd9-02be3f0202a3"
      },
      "execution_count": 90,
      "outputs": [
        {
          "output_type": "execute_result",
          "data": {
            "text/plain": [
              "'tanh'"
            ],
            "application/vnd.google.colaboratory.intrinsic+json": {
              "type": "string"
            }
          },
          "metadata": {},
          "execution_count": 90
        }
      ]
    },
    {
      "cell_type": "code",
      "source": [],
      "metadata": {
        "id": "NkDCloMlXBOm"
      },
      "execution_count": 91,
      "outputs": []
    },
    {
      "cell_type": "code",
      "source": [],
      "metadata": {
        "id": "fm3pWwQWzjKK"
      },
      "execution_count": null,
      "outputs": []
    }
  ]
}