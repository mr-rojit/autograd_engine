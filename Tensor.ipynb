{
  "nbformat": 4,
  "nbformat_minor": 0,
  "metadata": {
    "colab": {
      "provenance": [],
      "authorship_tag": "ABX9TyMNz3Axw9qVzv58UbOBouS+"
    },
    "kernelspec": {
      "name": "python3",
      "display_name": "Python 3"
    },
    "language_info": {
      "name": "python"
    }
  },
  "cells": [
    {
      "cell_type": "code",
      "source": [
        "import math"
      ],
      "metadata": {
        "id": "HTiveXPjzp48"
      },
      "execution_count": 3,
      "outputs": []
    },
    {
      "cell_type": "code",
      "execution_count": 4,
      "metadata": {
        "id": "Sku8DJcQlm8V"
      },
      "outputs": [],
      "source": [
        "class Scaler:\n",
        "\n",
        "  def __init__(self, data, children=(), op=None):\n",
        "    self.data = data\n",
        "    self._prev = set(children)\n",
        "    self._op = op\n",
        "    self.grad = 0\n",
        "    self._backward = lambda: None\n",
        "\n",
        "\n",
        "  def __add__(self, other):\n",
        "    out = Scaler(self.data + other.data, children=(self, other), op='+')\n",
        "    def _backward():\n",
        "      self.grad += out.grad\n",
        "      other.grad += out.grad\n",
        "    out._backward = _backward\n",
        "    return out\n",
        "\n",
        "  def __mul__(self, other):\n",
        "    out = Scaler(self.data * other.data, children=(self, other), op='x')\n",
        "    def _backward():\n",
        "      self.grad += other.data * out.grad\n",
        "      other.grad += self.data * out.grad\n",
        "    out._backward = _backward\n",
        "    return out\n",
        "\n",
        "  def tanh(self):\n",
        "    x = self.data\n",
        "    th = (math.exp(2*x) -1)/(math.exp(2*x) + 1)\n",
        "    out = Scaler(th, (self,), 'tanh')\n",
        "    def _backward():\n",
        "      self.grad += (1-th**2) * out.grad\n",
        "    out._backward = _backward\n",
        "    return out\n",
        "\n",
        "  def backward(self):\n",
        "\n",
        "    topo = []\n",
        "    visited = set()\n",
        "    def build_topo(v):\n",
        "        if v not in visited:\n",
        "            visited.add(v)\n",
        "            for child in v._prev:\n",
        "                build_topo(child)\n",
        "            topo.append(v)\n",
        "    build_topo(self)\n",
        "\n",
        "    self.grad = 1\n",
        "    for v in reversed(topo):\n",
        "        v._backward()\n",
        "\n",
        "  def __str__(self):\n",
        "    return f'Scaler {self.data}'\n",
        "\n",
        "  def __repr__(self):\n",
        "    return f'Scaler {self.data}'\n",
        "\n"
      ]
    },
    {
      "cell_type": "code",
      "source": [],
      "metadata": {
        "id": "CH1Sor7KmINJ"
      },
      "execution_count": 2,
      "outputs": []
    },
    {
      "cell_type": "code",
      "source": [],
      "metadata": {
        "id": "4kiOTlN0Izci"
      },
      "execution_count": 2,
      "outputs": []
    },
    {
      "cell_type": "code",
      "source": [],
      "metadata": {
        "id": "NkDCloMlXBOm"
      },
      "execution_count": 2,
      "outputs": []
    },
    {
      "cell_type": "code",
      "source": [],
      "metadata": {
        "id": "fm3pWwQWzjKK"
      },
      "execution_count": null,
      "outputs": []
    }
  ]
}