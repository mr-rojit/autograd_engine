{
 "cells": [
  {
   "cell_type": "code",
   "execution_count": 1,
   "id": "625e5eaf",
   "metadata": {},
   "outputs": [],
   "source": [
    "import numpy as np"
   ]
  },
  {
   "cell_type": "code",
   "execution_count": 16,
   "id": "49df64dc",
   "metadata": {},
   "outputs": [],
   "source": [
    "class Value:\n",
    "    \n",
    "    def __init__(self, data, _prev=(), _op='' ):\n",
    "        self.data = data\n",
    "        self._prev=set(_prev)\n",
    "        self._op = _op\n",
    "        self.grad = 0.0\n",
    "        self._backward = lambda: None\n",
    "        \n",
    "    def __repr__(self):\n",
    "        return f'data={self.data}'\n",
    "    \n",
    "    def __add__(self, other):\n",
    "        res = Value(data=self.data + other.data, _prev=(self,other), _op='+')\n",
    "        def _backward():\n",
    "            self.grad = 1 * res.grad\n",
    "            other.grad = 1 * res.grad\n",
    "        res._backward = _backward\n",
    "        return res\n",
    "    \n",
    "    def __mul__(self, other):\n",
    "        res = Value(data=self.data * other.data, _prev=(self,other), _op='*')\n",
    "        def _backward():\n",
    "            self.grad = other.data * res.grad\n",
    "            other.grad = self.data * res.grad\n",
    "        res._backward = _backward\n",
    "        return res\n",
    "    \n",
    "    def tanh(self):\n",
    "        x = self.data\n",
    "        tanh_fmla =(np.exp(2*x)-1)/ (np.exp(2*x)+1)\n",
    "        res =  Value(tanh_fmla, _prev=(self,), _op=\"tanh\")\n",
    "        def _backward():\n",
    "            self.grad = (1-tanh_fmla**2) * res.grad\n",
    "        res._backward =  _backward\n",
    "        return res\n",
    "    "
   ]
  },
  {
   "cell_type": "code",
   "execution_count": 17,
   "id": "5ea65ded",
   "metadata": {},
   "outputs": [],
   "source": [
    "### Creating a single neuron with two inputs, a bias and Tanh as a activation function"
   ]
  },
  {
   "cell_type": "code",
   "execution_count": 37,
   "id": "56275782",
   "metadata": {},
   "outputs": [
    {
     "data": {
      "text/plain": [
       "data=0.9999999996260327"
      ]
     },
     "execution_count": 37,
     "metadata": {},
     "output_type": "execute_result"
    }
   ],
   "source": [
    "x1 = Value(2.0)\n",
    "x2 = Value(0.0)\n",
    "\n",
    "w1 = Value(4.6)\n",
    "w2 = Value(5.0)\n",
    "\n",
    "b = Value(2)\n",
    "\n",
    "# implementing x1w1 + x2w2 + b \n",
    "\n",
    "x1w1 = x1 * w1\n",
    "x2w2 = x2 * w2\n",
    "\n",
    "summation = x1w1 + x2w2\n",
    "neuron = summation + b\n",
    "output = neuron.tanh()\n",
    "output"
   ]
  },
  {
   "cell_type": "code",
   "execution_count": 41,
   "id": "951e1964",
   "metadata": {},
   "outputs": [],
   "source": [
    "output.grad = 1\n",
    "output._backward()"
   ]
  },
  {
   "cell_type": "code",
   "execution_count": null,
   "id": "dc3632eb",
   "metadata": {},
   "outputs": [],
   "source": []
  },
  {
   "cell_type": "code",
   "execution_count": null,
   "id": "129c6889",
   "metadata": {},
   "outputs": [],
   "source": []
  },
  {
   "cell_type": "code",
   "execution_count": null,
   "id": "ffa8896a",
   "metadata": {},
   "outputs": [],
   "source": []
  },
  {
   "cell_type": "code",
   "execution_count": null,
   "id": "dfdaa9b6",
   "metadata": {},
   "outputs": [],
   "source": []
  },
  {
   "cell_type": "code",
   "execution_count": null,
   "id": "19fedccc",
   "metadata": {},
   "outputs": [],
   "source": []
  }
 ],
 "metadata": {
  "kernelspec": {
   "display_name": "Python 3 (ipykernel)",
   "language": "python",
   "name": "python3"
  },
  "language_info": {
   "codemirror_mode": {
    "name": "ipython",
    "version": 3
   },
   "file_extension": ".py",
   "mimetype": "text/x-python",
   "name": "python",
   "nbconvert_exporter": "python",
   "pygments_lexer": "ipython3",
   "version": "3.11.5"
  }
 },
 "nbformat": 4,
 "nbformat_minor": 5
}
