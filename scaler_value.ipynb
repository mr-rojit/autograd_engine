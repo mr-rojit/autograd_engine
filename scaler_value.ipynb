{
 "cells": [
  {
   "cell_type": "code",
   "execution_count": 1,
   "id": "625e5eaf",
   "metadata": {},
   "outputs": [],
   "source": [
    "import numpy as np"
   ]
  },
  {
   "cell_type": "code",
   "execution_count": 25,
   "id": "49df64dc",
   "metadata": {},
   "outputs": [],
   "source": [
    "class Value:\n",
    "    \n",
    "    def __init__(self, data, _prev=(), _op='' ):\n",
    "        self.data = data\n",
    "        self._prev=set(_prev)\n",
    "        self._op = _op\n",
    "        self.grad = 0.0\n",
    "        \n",
    "    def __repr__(self):\n",
    "        return f'data={self.data}'\n",
    "    \n",
    "    def __str__(self):\n",
    "        return self.value\n",
    "    \n",
    "    def __add__(self, other):\n",
    "        return Value(data=self.data + other.data, _prev=(self,other), _op='+')\n",
    "    \n",
    "    def __mul__(self, other):\n",
    "        return Value(data=self.data * other.data, _prev=(self,other), _op='*')\n",
    "    \n",
    "    def tanh(self):\n",
    "        x = self.data\n",
    "        return Value((np.exp(2*x)-1)/ (np.exp(2*x)+1), _prev=(self,), _op=\"tanh\")\n",
    "    "
   ]
  },
  {
   "cell_type": "code",
   "execution_count": 26,
   "id": "ed7cd893",
   "metadata": {},
   "outputs": [],
   "source": [
    "### Creating a single neuron with two inputs, a bias and Tanh as a activation function"
   ]
  },
  {
   "cell_type": "code",
   "execution_count": 27,
   "id": "56275782",
   "metadata": {},
   "outputs": [
    {
     "data": {
      "text/plain": [
       "data=0.6043677771171636"
      ]
     },
     "execution_count": 27,
     "metadata": {},
     "output_type": "execute_result"
    }
   ],
   "source": [
    "x1 = Value(2.0)\n",
    "x2 = Value(0.0)\n",
    "\n",
    "w1 = Value(-3.0)\n",
    "w2 = Value(1.0)\n",
    "\n",
    "b = Value(6.7)\n",
    "\n",
    "# implementing x1w1 + x2w2 + b \n",
    "\n",
    "x1w1 = x1 * w1\n",
    "x2w2 = x2 * w2\n",
    "\n",
    "summation = x1w1 + x2w2\n",
    "n = summation + b\n",
    "n.tanh()"
   ]
  },
  {
   "cell_type": "code",
   "execution_count": null,
   "id": "2e63f57b",
   "metadata": {},
   "outputs": [],
   "source": []
  },
  {
   "cell_type": "code",
   "execution_count": null,
   "id": "ac878719",
   "metadata": {},
   "outputs": [],
   "source": []
  },
  {
   "cell_type": "code",
   "execution_count": null,
   "id": "f343b181",
   "metadata": {},
   "outputs": [],
   "source": []
  },
  {
   "cell_type": "code",
   "execution_count": null,
   "id": "04fb44b5",
   "metadata": {},
   "outputs": [],
   "source": []
  },
  {
   "cell_type": "code",
   "execution_count": null,
   "id": "604a58aa",
   "metadata": {},
   "outputs": [],
   "source": []
  },
  {
   "cell_type": "code",
   "execution_count": null,
   "id": "fe6008b7",
   "metadata": {},
   "outputs": [],
   "source": []
  },
  {
   "cell_type": "code",
   "execution_count": null,
   "id": "e70eea7d",
   "metadata": {},
   "outputs": [],
   "source": []
  }
 ],
 "metadata": {
  "kernelspec": {
   "display_name": "Python 3 (ipykernel)",
   "language": "python",
   "name": "python3"
  },
  "language_info": {
   "codemirror_mode": {
    "name": "ipython",
    "version": 3
   },
   "file_extension": ".py",
   "mimetype": "text/x-python",
   "name": "python",
   "nbconvert_exporter": "python",
   "pygments_lexer": "ipython3",
   "version": "3.11.5"
  }
 },
 "nbformat": 4,
 "nbformat_minor": 5
}
