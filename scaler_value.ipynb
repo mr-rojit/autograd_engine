{
 "cells": [
  {
   "cell_type": "code",
   "execution_count": 14,
   "id": "625e5eaf",
   "metadata": {},
   "outputs": [],
   "source": [
    "import numpy as np"
   ]
  },
  {
   "cell_type": "code",
   "execution_count": 35,
   "id": "49df64dc",
   "metadata": {},
   "outputs": [],
   "source": [
    "class Value:\n",
    "    def __init__(self, data, _children=(), _op=None):\n",
    "        self.data = data\n",
    "        self._prev = set(_children)\n",
    "        self._op = _op\n",
    "        self.grad = 0\n",
    "        self._backward = lambda : None\n",
    "        \n",
    "    def __repr__(self):\n",
    "        return f'Value: {self.data}'\n",
    "    \n",
    "    def __add__(self, other):\n",
    "        out = Value(self.data + other.data,(self, other), _op='+')\n",
    "        def _backward():\n",
    "            self.grad += other.data\n",
    "            other.grad += self.data\n",
    "        out._backward = _backward\n",
    "        return out\n",
    "    \n",
    "    def __mul__(self, other):\n",
    "        out = Value(self.data * other.data, (self,other), _op='*')\n",
    "        def _backward():\n",
    "            self.grad += other.data * out.grad\n",
    "            other.grad += self.data * out.grad\n",
    "        out._backward = _backward\n",
    "        return out\n",
    "    \n",
    "    def tanh(self):\n",
    "        x = self.data\n",
    "        th = (np.exp(2*x) -1) / (np.exp(2*x) + 1)\n",
    "        out = Value(th, (self,), 'tanh' )\n",
    "        def _backward():\n",
    "            self.grad += (1-th**2) * out.grad\n",
    "        out._backward = _backward\n",
    "        return out\n",
    "    \n",
    "    def backward(self):\n",
    "        toplogical = []\n",
    "        visited = set()\n",
    "        def build_graph(node):\n",
    "            if node not in visited:\n",
    "                visited.add(node)\n",
    "            for n in node._prev:\n",
    "                build_graph(n)\n",
    "            toplogical.append(node)\n",
    "        build_graph(o)\n",
    "        toplogical = reversed(toplogical)\n",
    "        for node in toplogical:\n",
    "            node._backward()\n",
    "    "
   ]
  },
  {
   "cell_type": "code",
   "execution_count": 36,
   "id": "5ea65ded",
   "metadata": {},
   "outputs": [
    {
     "name": "stdout",
     "output_type": "stream",
     "text": [
      "Value: -6\n"
     ]
    }
   ],
   "source": [
    "x1 = Value(2)\n",
    "x2 = Value(0)\n",
    "w1 = Value(-3)\n",
    "w2 = Value(1)\n",
    "\n",
    "b = Value(6.7)\n",
    "\n",
    "x1w1 = x1*w1\n",
    "x2w2 = x2*w2\n",
    "\n",
    "x1w1x2w2 = x1w1 + x2w2\n",
    "\n",
    "print(x1w1x2w2)\n",
    "\n",
    "n = x1w1x2w2 + b\n",
    "o = n.tanh()\n",
    "o.grad = 1"
   ]
  },
  {
   "cell_type": "code",
   "execution_count": 37,
   "id": "afe7c256",
   "metadata": {},
   "outputs": [],
   "source": [
    "o.backward()"
   ]
  },
  {
   "cell_type": "code",
   "execution_count": 28,
   "id": "d2fb99ed",
   "metadata": {},
   "outputs": [],
   "source": []
  },
  {
   "cell_type": "code",
   "execution_count": null,
   "id": "b6d6947a",
   "metadata": {},
   "outputs": [],
   "source": []
  }
 ],
 "metadata": {
  "kernelspec": {
   "display_name": "Python 3 (ipykernel)",
   "language": "python",
   "name": "python3"
  },
  "language_info": {
   "codemirror_mode": {
    "name": "ipython",
    "version": 3
   },
   "file_extension": ".py",
   "mimetype": "text/x-python",
   "name": "python",
   "nbconvert_exporter": "python",
   "pygments_lexer": "ipython3",
   "version": "3.11.5"
  }
 },
 "nbformat": 4,
 "nbformat_minor": 5
}
